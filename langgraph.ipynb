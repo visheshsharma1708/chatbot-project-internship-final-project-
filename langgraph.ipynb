{
 "cells": [
  {
   "cell_type": "code",
   "execution_count": 17,
   "id": "83991a3c",
   "metadata": {},
   "outputs": [
    {
     "data": {
      "image/png": "[encoded data removed]",
      "text/plain": [
       "<langgraph.graph.state.CompiledStateGraph object at 0x0000014EDD3AFF00>"
      ]
     },
     "execution_count": 17,
     "metadata": {},
     "output_type": "execute_result"
    }
   ],
   "source": [
    "from langgraph.graph import StateGraph, END, START\n",
    "from utils.model_loader import get_llm\n",
    "from Agents.tech_agent import handle_tech_question\n",
    "from Agents.nontech_agent import handle_nontech_question\n",
    "from Agents.general_agent import handle_general_question\n",
    "from langchain_core.runnables import RunnableLambda\n",
    "\n",
    "# Load the language model\n",
    "llm = get_llm()\n",
    "\n",
    "# Define the shared state\n",
    "class ChatState(dict):\n",
    "    question: str\n",
    "    response: str\n",
    "    intent: str\n",
    "\n",
    "\n",
    "# Classifier function (returns a dictionary)\n",
    "def classify_intent(state: ChatState) -> ChatState:\n",
    "    q = state[\"question\"].lower()\n",
    "    if any(word in q for word in [\"python\", \"code\", \"ai\", \"ml\", \"data\", \"programming\"]):\n",
    "        state[\"intent\"] = \"tech\"\n",
    "    elif any(word in q for word in [\"movie\", \"travel\", \"news\", \"food\"]):\n",
    "        state[\"intent\"] = \"general\"\n",
    "    else:\n",
    "        state[\"intent\"] = \"nontech\"\n",
    "    return state\n",
    "\n",
    "\n",
    "# Agent Nodes\n",
    "def tech_node(state: ChatState) -> dict:\n",
    "    return {\"response\": handle_tech_question(state[\"question\"], llm)}\n",
    "\n",
    "def nontech_node(state: ChatState) -> dict:\n",
    "    return {\"response\": handle_nontech_question(state[\"question\"], llm)}\n",
    "\n",
    "def general_node(state: ChatState) -> dict:\n",
    "    return {\"response\": handle_general_question(state[\"question\"], llm)}\n",
    "\n",
    "# Build the LangGraph\n",
    "builder = StateGraph(ChatState)\n",
    "\n",
    "# Add Nodes\n",
    "builder.add_node(\"classifier\", RunnableLambda(classify_intent))\n",
    "builder.add_node(\"tech_node\", RunnableLambda(tech_node))\n",
    "builder.add_node(\"nontech_node\", RunnableLambda(nontech_node))\n",
    "builder.add_node(\"general_node\", RunnableLambda(general_node))\n",
    "\n",
    "# Set entry point\n",
    "builder.set_entry_point(\"classifier\")\n",
    "\n",
    "# Add conditional routing\n",
    "builder.add_conditional_edges(\n",
    "    \"classifier\",\n",
    "    lambda state: state[\"intent\"],  # get the intent from classifier output\n",
    "    {\n",
    "        \"tech\": \"tech_node\",\n",
    "        \"nontech\": \"nontech_node\",\n",
    "        \"general\": \"general_node\"\n",
    "    }\n",
    ")\n",
    "\n",
    "# Connect leaf nodes to END\n",
    "builder.add_edge(\"tech_node\", END)\n",
    "builder.add_edge(\"nontech_node\", END)\n",
    "builder.add_edge(\"general_node\", END)\n",
    "\n",
    "# Compile the graph\n",
    "graph = builder.compile()\n",
    "graph\n"
   ]
  },
  {
   "cell_type": "code",
   "execution_count": 18,
   "id": "368f297e",
   "metadata": {},
   "outputs": [
    {
     "name": "stdout",
     "output_type": "stream",
     "text": [
      "Bot Response: Here are the top 5 richest cricketers in simple terms:\n",
      "\n",
      "1. **Sachin Tendulkar**: He is worth around $200 million! He has many business ventures and investments, like restaurants, hospitals, and more.\n",
      "2. **MS Dhoni**: He's worth about $150 million! He owns a stake in an IPL team, has his own sports equipment company, and even has a restaurant chain!\n",
      "3. **Virat Kohli**: He's worth around $120 million! He has many endorsement deals with big brands like Puma, Audi, and more. He also co-owns a cricket academy.\n",
      "4. **Shane Warne**: He's worth about $100 million! He has investments in a chain of gyms, a restaurant, and even owns a stake in an Australian football team!\n",
      "5. **Virender Sehwag**: He's worth around $80 million! He has his own cricket academy, a sports equipment company, and even co-owns a hotel!\n",
      "\n",
      "These numbers might vary depending on the source, but these cricketers are generally considered to be among the richest in the sport!\n"
     ]
    }
   ],
   "source": [
    "# Test a sample question\n",
    "input_question = \"top 5 cricketers richest\"\n",
    "\n",
    "# Run the graph\n",
    "result = graph.invoke({\"question\": input_question})\n",
    "\n",
    "# Print the result\n",
    "print(\"Bot Response:\", result[\"response\"])\n"
   ]
  }
 ],
 "metadata": {
  "kernelspec": {
   "display_name": "venv (3.13.1)",
   "language": "python",
   "name": "python3"
  },
  "language_info": {
   "codemirror_mode": {
    "name": "ipython",
    "version": 3
   },
   "file_extension": ".py",
   "mimetype": "text/x-python",
   "name": "python",
   "nbconvert_exporter": "python",
   "pygments_lexer": "ipython3",
   "version": "3.13.1"
  }
 },
 "nbformat": 4,
 "nbformat_minor": 5
}
